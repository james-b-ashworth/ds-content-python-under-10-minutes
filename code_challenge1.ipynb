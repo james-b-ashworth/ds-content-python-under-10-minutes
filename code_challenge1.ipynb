{
 "cells": [
  {
   "cell_type": "code",
   "execution_count": 41,
   "metadata": {},
   "outputs": [],
   "source": [
    "list = [0,1,2,3,4,5,6,7,8]"
   ]
  },
  {
   "cell_type": "code",
   "execution_count": 38,
   "metadata": {},
   "outputs": [],
   "source": [
    "import numpy as np\n",
    "\n",
    "def calculate(list):\n",
    "    \n",
    "    while True:\n",
    "      if len(list) == 9:\n",
    "      \n",
    "          myMatrix = np.array(list).reshape(3,3)\n",
    "          \n",
    "          colMean = np.mean(myMatrix, axis = 0)\n",
    "          rowMean = np.mean(myMatrix, axis = 1)\n",
    "          elementMean = np.mean(myMatrix)\n",
    "          \n",
    "          colVar = np.var(myMatrix, axis = 0)\n",
    "          rowVar = np.var(myMatrix, axis = 1)\n",
    "          elementVar = np.var(myMatrix)\n",
    "      \n",
    "          colSD = np.std(myMatrix, axis = 0)\n",
    "          rowSD = np.std(myMatrix, axis = 1)\n",
    "          elementSD = np.std(myMatrix)\n",
    "      \n",
    "          colMax = np.max(myMatrix, axis = 0)\n",
    "          rowMax = np.max(myMatrix, axis = 1)\n",
    "          elementMax = np.max(myMatrix)\n",
    "      \n",
    "          colMin = np.min(myMatrix, axis = 0)\n",
    "          rowMin = np.min(myMatrix, axis = 1)\n",
    "          elementMin = np.min(myMatrix)\n",
    "      \n",
    "          colSum = np.sum(myMatrix, axis = 0)\n",
    "          rowSum = np.sum(myMatrix, axis = 1)\n",
    "          elementSum = np.sum(myMatrix)\n",
    "      \n",
    "          colMean = colMean.tolist()\n",
    "          rowMean = rowMean.tolist()\n",
    "          \n",
    "          colVar = colVar.tolist()\n",
    "          rowVar = rowVar.tolist()\n",
    "      \n",
    "          colSD = colSD.tolist()\n",
    "          rowSD = rowSD.tolist()\n",
    "      \n",
    "          colMax = colMax.tolist()\n",
    "          rowMax = rowMax.tolist()\n",
    "      \n",
    "          colMin = colMin.tolist()\n",
    "          rowMin = rowMin.tolist()\n",
    "      \n",
    "          colSum = colSum.tolist()\n",
    "          rowSum = rowSum.tolist()\n",
    "      \n",
    "          myDictionary = {'mean': [colMean, rowMean, elementMean],\n",
    "                          'variance': [colVar, rowVar, elementVar],\n",
    "                          'standard deviation': [colSD, rowSD, elementSD],\n",
    "                          'max': [colMax, rowMax, elementMax],\n",
    "                          'min': [colMin, rowMin, elementMin],\n",
    "                          'sum': [colSum, rowSum, elementSum]        \n",
    "                         }\n",
    "      \n",
    "          calculations = myDictionary\n",
    "          return calculations\n",
    "        \n",
    "      else:\n",
    "        raise ValueError('List must contain nine numbers.')       "
   ]
  },
  {
   "cell_type": "code",
   "execution_count": 42,
   "metadata": {},
   "outputs": [
    {
     "data": {
      "text/plain": [
       "{'mean': [[3.0, 4.0, 5.0], [1.0, 4.0, 7.0], 4.0],\n",
       " 'variance': [[6.0, 6.0, 6.0],\n",
       "  [0.6666666666666666, 0.6666666666666666, 0.6666666666666666],\n",
       "  6.666666666666667],\n",
       " 'standard deviation': [[2.449489742783178,\n",
       "   2.449489742783178,\n",
       "   2.449489742783178],\n",
       "  [0.816496580927726, 0.816496580927726, 0.816496580927726],\n",
       "  2.581988897471611],\n",
       " 'max': [[6, 7, 8], [2, 5, 8], 8],\n",
       " 'min': [[0, 1, 2], [0, 3, 6], 0],\n",
       " 'sum': [[9, 12, 15], [3, 12, 21], 36]}"
      ]
     },
     "execution_count": 42,
     "metadata": {},
     "output_type": "execute_result"
    }
   ],
   "source": [
    "calculate(list)"
   ]
  },
  {
   "cell_type": "code",
   "execution_count": null,
   "metadata": {},
   "outputs": [],
   "source": [
    "    while True:\n",
    "      try:\n",
    "        len(list) == 9\n",
    "        break\n",
    "      except ValueError as err:\n",
    "        return print(err)"
   ]
  }
 ],
 "metadata": {
  "interpreter": {
   "hash": "699be11cc5299eebfabccc6ee9f9ae237aae1ea29af2fb64dcc20923f8ed9e5e"
  },
  "kernelspec": {
   "display_name": "Python 3.9.6 64-bit",
   "language": "python",
   "name": "python3"
  },
  "language_info": {
   "codemirror_mode": {
    "name": "ipython",
    "version": 3
   },
   "file_extension": ".py",
   "mimetype": "text/x-python",
   "name": "python",
   "nbconvert_exporter": "python",
   "pygments_lexer": "ipython3",
   "version": "3.9.6"
  },
  "orig_nbformat": 4
 },
 "nbformat": 4,
 "nbformat_minor": 2
}
